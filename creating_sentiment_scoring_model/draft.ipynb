{
 "cells": [
  {
   "cell_type": "markdown",
   "metadata": {},
   "source": [
    "# Creating a Dictionary-based Sentiment Analyzer"
   ]
  },
  {
   "cell_type": "code",
   "execution_count": 2,
   "metadata": {},
   "outputs": [],
   "source": [
    "import pandas as pd\n",
    "import nltk\n",
    "from IPython.display import display\n",
    "pd.set_option('display.max_columns', None)"
   ]
  },
  {
   "cell_type": "markdown",
   "metadata": {},
   "source": [
    "### Step 1: Loading in the small_corpus .csv file created in the \"creating_dataset\" milestone."
   ]
  },
  {
   "cell_type": "code",
   "execution_count": 3,
   "metadata": {},
   "outputs": [],
   "source": [
    "reviews = pd.read_csv(\"../data/small_corpus.csv\")"
   ]
  },
  {
   "cell_type": "code",
   "execution_count": 4,
   "metadata": {},
   "outputs": [
    {
     "data": {
      "text/html": [
       "<div>\n",
       "<style scoped>\n",
       "    .dataframe tbody tr th:only-of-type {\n",
       "        vertical-align: middle;\n",
       "    }\n",
       "\n",
       "    .dataframe tbody tr th {\n",
       "        vertical-align: top;\n",
       "    }\n",
       "\n",
       "    .dataframe thead th {\n",
       "        text-align: right;\n",
       "    }\n",
       "</style>\n",
       "<table border=\"1\" class=\"dataframe\">\n",
       "  <thead>\n",
       "    <tr style=\"text-align: right;\">\n",
       "      <th></th>\n",
       "      <th>overall</th>\n",
       "      <th>verified</th>\n",
       "      <th>reviewTime</th>\n",
       "      <th>reviewerID</th>\n",
       "      <th>asin</th>\n",
       "      <th>reviewerName</th>\n",
       "      <th>reviewText</th>\n",
       "      <th>summary</th>\n",
       "      <th>unixReviewTime</th>\n",
       "      <th>vote</th>\n",
       "      <th>style</th>\n",
       "      <th>image</th>\n",
       "    </tr>\n",
       "  </thead>\n",
       "  <tbody>\n",
       "    <tr>\n",
       "      <th>0</th>\n",
       "      <td>1.0</td>\n",
       "      <td>True</td>\n",
       "      <td>12 30, 2009</td>\n",
       "      <td>A1ZI4YAGHTZ698</td>\n",
       "      <td>B002L7GKXG</td>\n",
       "      <td>andrzej raczynski</td>\n",
       "      <td>Couldn't get my Amazon copy to install, securo...</td>\n",
       "      <td>There's bad discs out there.</td>\n",
       "      <td>1262131200</td>\n",
       "      <td>8</td>\n",
       "      <td>{'Format:': ' CD-ROM'}</td>\n",
       "      <td>NaN</td>\n",
       "    </tr>\n",
       "    <tr>\n",
       "      <th>1</th>\n",
       "      <td>1.0</td>\n",
       "      <td>False</td>\n",
       "      <td>05 28, 2003</td>\n",
       "      <td>A37D2BPGCF1N89</td>\n",
       "      <td>B00006IJO5</td>\n",
       "      <td>Walt</td>\n",
       "      <td>[...]\\nSystem Specs\\nP4 1.9\\n256MB Ram\\nGeForc...</td>\n",
       "      <td>If I can save one person from buying this game...</td>\n",
       "      <td>1054080000</td>\n",
       "      <td>10</td>\n",
       "      <td>NaN</td>\n",
       "      <td>NaN</td>\n",
       "    </tr>\n",
       "    <tr>\n",
       "      <th>2</th>\n",
       "      <td>1.0</td>\n",
       "      <td>False</td>\n",
       "      <td>03 9, 2010</td>\n",
       "      <td>AB8GFV7U2F6QP</td>\n",
       "      <td>B00149Y1G0</td>\n",
       "      <td>HardcoreGamer</td>\n",
       "      <td>After playing Dirt, I could hardly wait to get...</td>\n",
       "      <td>Disappointing</td>\n",
       "      <td>1268092800</td>\n",
       "      <td>NaN</td>\n",
       "      <td>{'Platform:': ' Xbox 360'}</td>\n",
       "      <td>NaN</td>\n",
       "    </tr>\n",
       "    <tr>\n",
       "      <th>3</th>\n",
       "      <td>1.0</td>\n",
       "      <td>True</td>\n",
       "      <td>03 6, 2015</td>\n",
       "      <td>A2NLILXEDL2DFZ</td>\n",
       "      <td>B00DBDPOZ4</td>\n",
       "      <td>Ryan Edwards</td>\n",
       "      <td>Thanks for charging us an arm and a leg for so...</td>\n",
       "      <td>One Star</td>\n",
       "      <td>1425600000</td>\n",
       "      <td>NaN</td>\n",
       "      <td>{'Format:': ' Video Game'}</td>\n",
       "      <td>NaN</td>\n",
       "    </tr>\n",
       "    <tr>\n",
       "      <th>4</th>\n",
       "      <td>1.0</td>\n",
       "      <td>False</td>\n",
       "      <td>10 24, 2017</td>\n",
       "      <td>A1LP4ZX15LDGGN</td>\n",
       "      <td>B003S2OOC2</td>\n",
       "      <td>chad JJ</td>\n",
       "      <td>after midway went out of business the producer...</td>\n",
       "      <td>thq's clone of midway's tna impact game</td>\n",
       "      <td>1508803200</td>\n",
       "      <td>NaN</td>\n",
       "      <td>{'Platform:': ' PlayStation 3'}</td>\n",
       "      <td>NaN</td>\n",
       "    </tr>\n",
       "  </tbody>\n",
       "</table>\n",
       "</div>"
      ],
      "text/plain": [
       "   overall  verified   reviewTime      reviewerID        asin  \\\n",
       "0      1.0      True  12 30, 2009  A1ZI4YAGHTZ698  B002L7GKXG   \n",
       "1      1.0     False  05 28, 2003  A37D2BPGCF1N89  B00006IJO5   \n",
       "2      1.0     False   03 9, 2010   AB8GFV7U2F6QP  B00149Y1G0   \n",
       "3      1.0      True   03 6, 2015  A2NLILXEDL2DFZ  B00DBDPOZ4   \n",
       "4      1.0     False  10 24, 2017  A1LP4ZX15LDGGN  B003S2OOC2   \n",
       "\n",
       "        reviewerName                                         reviewText  \\\n",
       "0  andrzej raczynski  Couldn't get my Amazon copy to install, securo...   \n",
       "1               Walt  [...]\\nSystem Specs\\nP4 1.9\\n256MB Ram\\nGeForc...   \n",
       "2      HardcoreGamer  After playing Dirt, I could hardly wait to get...   \n",
       "3       Ryan Edwards  Thanks for charging us an arm and a leg for so...   \n",
       "4            chad JJ  after midway went out of business the producer...   \n",
       "\n",
       "                                             summary  unixReviewTime vote  \\\n",
       "0                       There's bad discs out there.      1262131200    8   \n",
       "1  If I can save one person from buying this game...      1054080000   10   \n",
       "2                                      Disappointing      1268092800  NaN   \n",
       "3                                           One Star      1425600000  NaN   \n",
       "4            thq's clone of midway's tna impact game      1508803200  NaN   \n",
       "\n",
       "                             style image  \n",
       "0           {'Format:': ' CD-ROM'}   NaN  \n",
       "1                              NaN   NaN  \n",
       "2       {'Platform:': ' Xbox 360'}   NaN  \n",
       "3       {'Format:': ' Video Game'}   NaN  \n",
       "4  {'Platform:': ' PlayStation 3'}   NaN  "
      ]
     },
     "execution_count": 4,
     "metadata": {},
     "output_type": "execute_result"
    }
   ],
   "source": [
    "reviews.head()"
   ]
  },
  {
   "cell_type": "markdown",
   "metadata": {},
   "source": [
    "### Step 2: Tokenizing the sentences and words of the reviews\n",
    "Here, We're going to test different versions of word tokenizer on reviews. We'll then decide which tokenizer might be better to use."
   ]
  },
  {
   "cell_type": "markdown",
   "metadata": {},
   "source": [
    "### Treebank Word Tokenizer"
   ]
  },
  {
   "cell_type": "code",
   "execution_count": 5,
   "metadata": {},
   "outputs": [],
   "source": [
    "from nltk.tokenize import TreebankWordTokenizer\n",
    "from string import punctuation\n",
    "import string"
   ]
  },
  {
   "cell_type": "code",
   "execution_count": 6,
   "metadata": {},
   "outputs": [],
   "source": [
    "tb_tokenizer = TreebankWordTokenizer()"
   ]
  },
  {
   "cell_type": "code",
   "execution_count": 7,
   "metadata": {},
   "outputs": [],
   "source": [
    "reviews[\"rev_text_lower\"] = reviews['reviewText'].apply(lambda rev: str(rev)\\\n",
    "                                                        .translate(str.maketrans('', '', punctuation))\\\n",
    "                                                        .replace(\"<br />\", \" \")\\\n",
    "                                                        .lower())"
   ]
  },
  {
   "cell_type": "code",
   "execution_count": 8,
   "metadata": {},
   "outputs": [
    {
     "data": {
      "text/html": [
       "<div>\n",
       "<style scoped>\n",
       "    .dataframe tbody tr th:only-of-type {\n",
       "        vertical-align: middle;\n",
       "    }\n",
       "\n",
       "    .dataframe tbody tr th {\n",
       "        vertical-align: top;\n",
       "    }\n",
       "\n",
       "    .dataframe thead th {\n",
       "        text-align: right;\n",
       "    }\n",
       "</style>\n",
       "<table border=\"1\" class=\"dataframe\">\n",
       "  <thead>\n",
       "    <tr style=\"text-align: right;\">\n",
       "      <th></th>\n",
       "      <th>reviewText</th>\n",
       "      <th>rev_text_lower</th>\n",
       "    </tr>\n",
       "  </thead>\n",
       "  <tbody>\n",
       "    <tr>\n",
       "      <th>4161</th>\n",
       "      <td>God Of War is so much fun, from the gameplay m...</td>\n",
       "      <td>god of war is so much fun from the gameplay me...</td>\n",
       "    </tr>\n",
       "    <tr>\n",
       "      <th>1937</th>\n",
       "      <td>Another game that doesn't live up to its prede...</td>\n",
       "      <td>another game that doesnt live up to its predec...</td>\n",
       "    </tr>\n",
       "  </tbody>\n",
       "</table>\n",
       "</div>"
      ],
      "text/plain": [
       "                                             reviewText  \\\n",
       "4161  God Of War is so much fun, from the gameplay m...   \n",
       "1937  Another game that doesn't live up to its prede...   \n",
       "\n",
       "                                         rev_text_lower  \n",
       "4161  god of war is so much fun from the gameplay me...  \n",
       "1937  another game that doesnt live up to its predec...  "
      ]
     },
     "execution_count": 8,
     "metadata": {},
     "output_type": "execute_result"
    }
   ],
   "source": [
    "reviews[['reviewText','rev_text_lower']].sample(2)"
   ]
  },
  {
   "cell_type": "code",
   "execution_count": 9,
   "metadata": {},
   "outputs": [],
   "source": [
    "reviews[\"tb_tokens\"] = reviews['rev_text_lower'].apply(lambda rev: tb_tokenizer.tokenize(str(rev)))"
   ]
  },
  {
   "cell_type": "code",
   "execution_count": 10,
   "metadata": {},
   "outputs": [],
   "source": [
    "pd.set_option('display.max_colwidth', None)"
   ]
  },
  {
   "cell_type": "code",
   "execution_count": 11,
   "metadata": {},
   "outputs": [
    {
     "data": {
      "text/html": [
       "<div>\n",
       "<style scoped>\n",
       "    .dataframe tbody tr th:only-of-type {\n",
       "        vertical-align: middle;\n",
       "    }\n",
       "\n",
       "    .dataframe tbody tr th {\n",
       "        vertical-align: top;\n",
       "    }\n",
       "\n",
       "    .dataframe thead th {\n",
       "        text-align: right;\n",
       "    }\n",
       "</style>\n",
       "<table border=\"1\" class=\"dataframe\">\n",
       "  <thead>\n",
       "    <tr style=\"text-align: right;\">\n",
       "      <th></th>\n",
       "      <th>reviewText</th>\n",
       "      <th>tb_tokens</th>\n",
       "    </tr>\n",
       "  </thead>\n",
       "  <tbody>\n",
       "    <tr>\n",
       "      <th>2409</th>\n",
       "      <td>It wasn't a terrible game, just not quite as good as GH1 or 2. I beat it in about a day. The difficulty has gone up a bit, some songs I had to replay because I failed them even though I can get five stars on almost any song on GH2 on the same difficulty level. After every other song set you have to battle a boss. That parts actually pretty fun but you can't go back and replay them after you've beaten the game. The songs were okay... some were great, some really shouldn't have been on the game. In my opinion, the not so good songs outweigh the great songs making GH3 just an okay with a limited desire of re-playability. I played GH2 for quite a long time after I had beaten it, but with GH3 I just feel that's going to be the case.</td>\n",
       "      <td>[it, wasnt, a, terrible, game, just, not, quite, as, good, as, gh1, or, 2, i, beat, it, in, about, a, day, the, difficulty, has, gone, up, a, bit, some, songs, i, had, to, replay, because, i, failed, them, even, though, i, can, get, five, stars, on, almost, any, song, on, gh2, on, the, same, difficulty, level, after, every, other, song, set, you, have, to, battle, a, boss, that, parts, actually, pretty, fun, but, you, cant, go, back, and, replay, them, after, youve, beaten, the, game, the, songs, were, okay, some, were, great, some, really, shouldnt, have, been, on, the, game, ...]</td>\n",
       "    </tr>\n",
       "    <tr>\n",
       "      <th>3683</th>\n",
       "      <td>I totally enjoy working out when I have such a wide variety of games, mental and physical to have as a workout.  Love it</td>\n",
       "      <td>[i, totally, enjoy, working, out, when, i, have, such, a, wide, variety, of, games, mental, and, physical, to, have, as, a, workout, love, it]</td>\n",
       "    </tr>\n",
       "    <tr>\n",
       "      <th>320</th>\n",
       "      <td>In a nutshell, this game sucks! The controls are so terrible, the missions are all the same, and the camera angle constantly has no idea where to look. In other words when your getting attacked by 6 or 7 guards you cannot see what you are even fighting, and thanks to the control layout, cannot fight back anyway.\\nThe game is also very boring. Everything is the same!</td>\n",
       "      <td>[in, a, nutshell, this, game, sucks, the, controls, are, so, terrible, the, missions, are, all, the, same, and, the, camera, angle, constantly, has, no, idea, where, to, look, in, other, words, when, your, getting, attacked, by, 6, or, 7, guards, you, can, not, see, what, you, are, even, fighting, and, thanks, to, the, control, layout, can, not, fight, back, anyway, the, game, is, also, very, boring, everything, is, the, same]</td>\n",
       "    </tr>\n",
       "  </tbody>\n",
       "</table>\n",
       "</div>"
      ],
      "text/plain": [
       "                                                                                                                                                                                                                                                                                                                                                                                                                                                                                                                                                                                                                                                                                                                                                             reviewText  \\\n",
       "2409  It wasn't a terrible game, just not quite as good as GH1 or 2. I beat it in about a day. The difficulty has gone up a bit, some songs I had to replay because I failed them even though I can get five stars on almost any song on GH2 on the same difficulty level. After every other song set you have to battle a boss. That parts actually pretty fun but you can't go back and replay them after you've beaten the game. The songs were okay... some were great, some really shouldn't have been on the game. In my opinion, the not so good songs outweigh the great songs making GH3 just an okay with a limited desire of re-playability. I played GH2 for quite a long time after I had beaten it, but with GH3 I just feel that's going to be the case.   \n",
       "3683                                                                                                                                                                                                                                                                                                                                                                                                                                                                                                                                                                                                                                           I totally enjoy working out when I have such a wide variety of games, mental and physical to have as a workout.  Love it   \n",
       "320                                                                                                                                                                                                                                                                                                                                                                                    In a nutshell, this game sucks! The controls are so terrible, the missions are all the same, and the camera angle constantly has no idea where to look. In other words when your getting attacked by 6 or 7 guards you cannot see what you are even fighting, and thanks to the control layout, cannot fight back anyway.\\nThe game is also very boring. Everything is the same!   \n",
       "\n",
       "                                                                                                                                                                                                                                                                                                                                                                                                                                                                                                                                                                                                         tb_tokens  \n",
       "2409  [it, wasnt, a, terrible, game, just, not, quite, as, good, as, gh1, or, 2, i, beat, it, in, about, a, day, the, difficulty, has, gone, up, a, bit, some, songs, i, had, to, replay, because, i, failed, them, even, though, i, can, get, five, stars, on, almost, any, song, on, gh2, on, the, same, difficulty, level, after, every, other, song, set, you, have, to, battle, a, boss, that, parts, actually, pretty, fun, but, you, cant, go, back, and, replay, them, after, youve, beaten, the, game, the, songs, were, okay, some, were, great, some, really, shouldnt, have, been, on, the, game, ...]  \n",
       "3683                                                                                                                                                                                                                                                                                                                                                                                                                                                                [i, totally, enjoy, working, out, when, i, have, such, a, wide, variety, of, games, mental, and, physical, to, have, as, a, workout, love, it]  \n",
       "320                                                                                                                                                                 [in, a, nutshell, this, game, sucks, the, controls, are, so, terrible, the, missions, are, all, the, same, and, the, camera, angle, constantly, has, no, idea, where, to, look, in, other, words, when, your, getting, attacked, by, 6, or, 7, guards, you, can, not, see, what, you, are, even, fighting, and, thanks, to, the, control, layout, can, not, fight, back, anyway, the, game, is, also, very, boring, everything, is, the, same]  "
      ]
     },
     "execution_count": 11,
     "metadata": {},
     "output_type": "execute_result"
    }
   ],
   "source": [
    "reviews[['reviewText','tb_tokens']].sample(3)"
   ]
  },
  {
   "cell_type": "markdown",
   "metadata": {},
   "source": [
    "### Casual Tokenizer"
   ]
  },
  {
   "cell_type": "code",
   "execution_count": 12,
   "metadata": {},
   "outputs": [],
   "source": [
    "from nltk.tokenize.casual import casual_tokenize"
   ]
  },
  {
   "cell_type": "code",
   "execution_count": 13,
   "metadata": {},
   "outputs": [],
   "source": [
    "reviews['casual_tokens'] = reviews['rev_text_lower'].apply(lambda rev: casual_tokenize(str(rev)))"
   ]
  },
  {
   "cell_type": "code",
   "execution_count": 14,
   "metadata": {},
   "outputs": [
    {
     "data": {
      "text/html": [
       "<div>\n",
       "<style scoped>\n",
       "    .dataframe tbody tr th:only-of-type {\n",
       "        vertical-align: middle;\n",
       "    }\n",
       "\n",
       "    .dataframe tbody tr th {\n",
       "        vertical-align: top;\n",
       "    }\n",
       "\n",
       "    .dataframe thead th {\n",
       "        text-align: right;\n",
       "    }\n",
       "</style>\n",
       "<table border=\"1\" class=\"dataframe\">\n",
       "  <thead>\n",
       "    <tr style=\"text-align: right;\">\n",
       "      <th></th>\n",
       "      <th>reviewText</th>\n",
       "      <th>casual_tokens</th>\n",
       "      <th>tb_tokens</th>\n",
       "    </tr>\n",
       "  </thead>\n",
       "  <tbody>\n",
       "    <tr>\n",
       "      <th>3094</th>\n",
       "      <td>I'm a Tomb Raider fan so when I purchased a PS3 console,naturally I thought about getting this game as well as the latest TR game. As with all TR games you have to learn to think methodically in order to get through the game. The TR series of games are good for learning to think in practical terms. Last night while playing the game it got a little jittery. Don't know yet if it's my PS3 console or how the game was written.</td>\n",
       "      <td>[im, a, tomb, raider, fan, so, when, i, purchased, a, ps3, consolenaturally, i, thought, about, getting, this, game, as, well, as, the, latest, tr, game, as, with, all, tr, games, you, have, to, learn, to, think, methodically, in, order, to, get, through, the, game, the, tr, series, of, games, are, good, for, learning, to, think, in, practical, terms, last, night, while, playing, the, game, it, got, a, little, jittery, dont, know, yet, if, its, my, ps3, console, or, how, the, game, was, written]</td>\n",
       "      <td>[im, a, tomb, raider, fan, so, when, i, purchased, a, ps3, consolenaturally, i, thought, about, getting, this, game, as, well, as, the, latest, tr, game, as, with, all, tr, games, you, have, to, learn, to, think, methodically, in, order, to, get, through, the, game, the, tr, series, of, games, are, good, for, learning, to, think, in, practical, terms, last, night, while, playing, the, game, it, got, a, little, jittery, dont, know, yet, if, its, my, ps3, console, or, how, the, game, was, written]</td>\n",
       "    </tr>\n",
       "    <tr>\n",
       "      <th>1424</th>\n",
       "      <td>I love the concept of the controller but the implementation is BS.  I was waiting for a company to come out with a controller that had at least 2 extra programmable buttons that I could use with FPS games so I could still look, jump, and shoot simultaneously or whatever it is they decided to map to A,B,X,or Y.  So, I got this.\\n\\nI have used it a few times and the design of the controller is not optimal for using the extra buttons.  The placement is awkward because of how the controller fits in my hands.  I can barely even touch the RB and LB not to mention the buttons above them.  It requires your index finger to stretch in a fashion that doesn't have the greatest flexibility in normal human beings.  If you want to use this controller correctly your going to need to adjust your grip on it.\\n\\nUpdate:  The controller's left thumb-stick now constantly sends a down signal and it's completely unusable.  It is not even from overuse because I hadn't used the damn thing but a hand full of times and then just put it away for about 3 weeks. POS, I will never buy third-party controllers again.  Amazon is not letting me change the fun rating for some reason!  1 star all the way.</td>\n",
       "      <td>[i, love, the, concept, of, the, controller, but, the, implementation, is, bs, i, was, waiting, for, a, company, to, come, out, with, a, controller, that, had, at, least, 2, extra, programmable, buttons, that, i, could, use, with, fps, games, so, i, could, still, look, jump, and, shoot, simultaneously, or, whatever, it, is, they, decided, to, map, to, abxor, y, so, i, got, this, i, have, used, it, a, few, times, and, the, design, of, the, controller, is, not, optimal, for, using, the, extra, buttons, the, placement, is, awkward, because, of, how, the, controller, fits, in, my, hands, i, can, barely, ...]</td>\n",
       "      <td>[i, love, the, concept, of, the, controller, but, the, implementation, is, bs, i, was, waiting, for, a, company, to, come, out, with, a, controller, that, had, at, least, 2, extra, programmable, buttons, that, i, could, use, with, fps, games, so, i, could, still, look, jump, and, shoot, simultaneously, or, whatever, it, is, they, decided, to, map, to, abxor, y, so, i, got, this, i, have, used, it, a, few, times, and, the, design, of, the, controller, is, not, optimal, for, using, the, extra, buttons, the, placement, is, awkward, because, of, how, the, controller, fits, in, my, hands, i, can, barely, ...]</td>\n",
       "    </tr>\n",
       "    <tr>\n",
       "      <th>2665</th>\n",
       "      <td>once again short.. but.. very compelling, nice start.. with kind of an awkward finish, but.. I ain't sayin nothin els;p you'l havto play it to find out.. sorry/:</td>\n",
       "      <td>[once, again, short, but, very, compelling, nice, start, with, kind, of, an, awkward, finish, but, i, aint, sayin, nothin, elsp, youl, havto, play, it, to, find, out, sorry]</td>\n",
       "      <td>[once, again, short, but, very, compelling, nice, start, with, kind, of, an, awkward, finish, but, i, aint, sayin, nothin, elsp, youl, havto, play, it, to, find, out, sorry]</td>\n",
       "    </tr>\n",
       "  </tbody>\n",
       "</table>\n",
       "</div>"
      ],
      "text/plain": [
       "                                                                                                                                                                                                                                                                                                                                                                                                                                                                                                                                                                                                                                                                                                                                                                                                                                                                                                                                                                                                                                                                                                                                                                                                                               reviewText  \\\n",
       "3094                                                                                                                                                                                                                                                                                                                                                                                                                                                                                                                                                                                                                                                                                                                                                                                            I'm a Tomb Raider fan so when I purchased a PS3 console,naturally I thought about getting this game as well as the latest TR game. As with all TR games you have to learn to think methodically in order to get through the game. The TR series of games are good for learning to think in practical terms. Last night while playing the game it got a little jittery. Don't know yet if it's my PS3 console or how the game was written.   \n",
       "1424  I love the concept of the controller but the implementation is BS.  I was waiting for a company to come out with a controller that had at least 2 extra programmable buttons that I could use with FPS games so I could still look, jump, and shoot simultaneously or whatever it is they decided to map to A,B,X,or Y.  So, I got this.\\n\\nI have used it a few times and the design of the controller is not optimal for using the extra buttons.  The placement is awkward because of how the controller fits in my hands.  I can barely even touch the RB and LB not to mention the buttons above them.  It requires your index finger to stretch in a fashion that doesn't have the greatest flexibility in normal human beings.  If you want to use this controller correctly your going to need to adjust your grip on it.\\n\\nUpdate:  The controller's left thumb-stick now constantly sends a down signal and it's completely unusable.  It is not even from overuse because I hadn't used the damn thing but a hand full of times and then just put it away for about 3 weeks. POS, I will never buy third-party controllers again.  Amazon is not letting me change the fun rating for some reason!  1 star all the way.   \n",
       "2665                                                                                                                                                                                                                                                                                                                                                                                                                                                                                                                                                                                                                                                                                                                                                                                                                                                                                                                                                                                                                                                                    once again short.. but.. very compelling, nice start.. with kind of an awkward finish, but.. I ain't sayin nothin els;p you'l havto play it to find out.. sorry/:   \n",
       "\n",
       "                                                                                                                                                                                                                                                                                                                                                                                                                                                                                                                                                                                                                            casual_tokens  \\\n",
       "3094                                                                                                                 [im, a, tomb, raider, fan, so, when, i, purchased, a, ps3, consolenaturally, i, thought, about, getting, this, game, as, well, as, the, latest, tr, game, as, with, all, tr, games, you, have, to, learn, to, think, methodically, in, order, to, get, through, the, game, the, tr, series, of, games, are, good, for, learning, to, think, in, practical, terms, last, night, while, playing, the, game, it, got, a, little, jittery, dont, know, yet, if, its, my, ps3, console, or, how, the, game, was, written]   \n",
       "1424  [i, love, the, concept, of, the, controller, but, the, implementation, is, bs, i, was, waiting, for, a, company, to, come, out, with, a, controller, that, had, at, least, 2, extra, programmable, buttons, that, i, could, use, with, fps, games, so, i, could, still, look, jump, and, shoot, simultaneously, or, whatever, it, is, they, decided, to, map, to, abxor, y, so, i, got, this, i, have, used, it, a, few, times, and, the, design, of, the, controller, is, not, optimal, for, using, the, extra, buttons, the, placement, is, awkward, because, of, how, the, controller, fits, in, my, hands, i, can, barely, ...]   \n",
       "2665                                                                                                                                                                                                                                                                                                                                                                                                                                                        [once, again, short, but, very, compelling, nice, start, with, kind, of, an, awkward, finish, but, i, aint, sayin, nothin, elsp, youl, havto, play, it, to, find, out, sorry]   \n",
       "\n",
       "                                                                                                                                                                                                                                                                                                                                                                                                                                                                                                                                                                                                                                tb_tokens  \n",
       "3094                                                                                                                 [im, a, tomb, raider, fan, so, when, i, purchased, a, ps3, consolenaturally, i, thought, about, getting, this, game, as, well, as, the, latest, tr, game, as, with, all, tr, games, you, have, to, learn, to, think, methodically, in, order, to, get, through, the, game, the, tr, series, of, games, are, good, for, learning, to, think, in, practical, terms, last, night, while, playing, the, game, it, got, a, little, jittery, dont, know, yet, if, its, my, ps3, console, or, how, the, game, was, written]  \n",
       "1424  [i, love, the, concept, of, the, controller, but, the, implementation, is, bs, i, was, waiting, for, a, company, to, come, out, with, a, controller, that, had, at, least, 2, extra, programmable, buttons, that, i, could, use, with, fps, games, so, i, could, still, look, jump, and, shoot, simultaneously, or, whatever, it, is, they, decided, to, map, to, abxor, y, so, i, got, this, i, have, used, it, a, few, times, and, the, design, of, the, controller, is, not, optimal, for, using, the, extra, buttons, the, placement, is, awkward, because, of, how, the, controller, fits, in, my, hands, i, can, barely, ...]  \n",
       "2665                                                                                                                                                                                                                                                                                                                                                                                                                                                        [once, again, short, but, very, compelling, nice, start, with, kind, of, an, awkward, finish, but, i, aint, sayin, nothin, elsp, youl, havto, play, it, to, find, out, sorry]  "
      ]
     },
     "execution_count": 14,
     "metadata": {},
     "output_type": "execute_result"
    }
   ],
   "source": [
    "reviews[['reviewText','casual_tokens','tb_tokens']].sample(3)"
   ]
  },
  {
   "cell_type": "markdown",
   "metadata": {},
   "source": [
    "### Removing StopWords\n",
    "This part has been remvoed as removing stop words is not good for sentiment analysis at all!!"
   ]
  },
  {
   "cell_type": "code",
   "execution_count": 14,
   "metadata": {},
   "outputs": [],
   "source": [
    "#nltk.download('stopwords')"
   ]
  },
  {
   "cell_type": "code",
   "execution_count": 15,
   "metadata": {},
   "outputs": [],
   "source": [
    "#stop_words = nltk.corpus.stopwords.words('english')"
   ]
  },
  {
   "cell_type": "code",
   "execution_count": 16,
   "metadata": {},
   "outputs": [],
   "source": [
    "#stop_words.remove(\"no\")"
   ]
  },
  {
   "cell_type": "code",
   "execution_count": 17,
   "metadata": {},
   "outputs": [],
   "source": [
    "#stop_words.remove(\"not\")"
   ]
  },
  {
   "cell_type": "code",
   "execution_count": 18,
   "metadata": {},
   "outputs": [],
   "source": [
    "#print(stop_words)"
   ]
  },
  {
   "cell_type": "code",
   "execution_count": 19,
   "metadata": {},
   "outputs": [],
   "source": [
    "#\"not\" in stop_words"
   ]
  },
  {
   "cell_type": "code",
   "execution_count": 20,
   "metadata": {},
   "outputs": [],
   "source": [
    "#len(stop_words)"
   ]
  },
  {
   "cell_type": "code",
   "execution_count": 21,
   "metadata": {},
   "outputs": [],
   "source": [
    "#from string import punctuation\n",
    "#print(punctuation)"
   ]
  },
  {
   "cell_type": "code",
   "execution_count": 22,
   "metadata": {},
   "outputs": [],
   "source": [
    "#reviews['tokens_nosw'] = reviews['tb_tokens'].\\\n",
    "#    apply(lambda words: [w for w in words if w not in stop_words and w not in punctuation and w != \"\"])"
   ]
  },
  {
   "cell_type": "code",
   "execution_count": 23,
   "metadata": {},
   "outputs": [],
   "source": [
    "#reviews[['tb_tokens','tokens_nosw']].sample(3)"
   ]
  },
  {
   "cell_type": "markdown",
   "metadata": {},
   "source": [
    "### Stemming"
   ]
  },
  {
   "cell_type": "code",
   "execution_count": 15,
   "metadata": {},
   "outputs": [],
   "source": [
    "from nltk.stem.porter import PorterStemmer"
   ]
  },
  {
   "cell_type": "code",
   "execution_count": 16,
   "metadata": {},
   "outputs": [],
   "source": [
    "stemmer = PorterStemmer()"
   ]
  },
  {
   "cell_type": "code",
   "execution_count": 17,
   "metadata": {},
   "outputs": [],
   "source": [
    "reviews['tokens_stemmed'] = reviews['tb_tokens'].apply(lambda words: [stemmer.stem(w) for w in words])"
   ]
  },
  {
   "cell_type": "code",
   "execution_count": 18,
   "metadata": {},
   "outputs": [
    {
     "data": {
      "text/html": [
       "<div>\n",
       "<style scoped>\n",
       "    .dataframe tbody tr th:only-of-type {\n",
       "        vertical-align: middle;\n",
       "    }\n",
       "\n",
       "    .dataframe tbody tr th {\n",
       "        vertical-align: top;\n",
       "    }\n",
       "\n",
       "    .dataframe thead th {\n",
       "        text-align: right;\n",
       "    }\n",
       "</style>\n",
       "<table border=\"1\" class=\"dataframe\">\n",
       "  <thead>\n",
       "    <tr style=\"text-align: right;\">\n",
       "      <th></th>\n",
       "      <th>tb_tokens</th>\n",
       "      <th>tokens_stemmed</th>\n",
       "    </tr>\n",
       "  </thead>\n",
       "  <tbody>\n",
       "    <tr>\n",
       "      <th>4288</th>\n",
       "      <td>[love, it, thanks, received, it, fast, and, exactly, what, i, wanted, very, happy, with, it, would, bye, it, again, thanks]</td>\n",
       "      <td>[love, it, thank, receiv, it, fast, and, exactli, what, i, want, veri, happi, with, it, would, bye, it, again, thank]</td>\n",
       "    </tr>\n",
       "    <tr>\n",
       "      <th>4303</th>\n",
       "      <td>[theres, a, reason, this, game, has, been, in, the, top, ds, games, list, for, over, 1400, days, the, limited, controls, only, directional, pad, and, 2, buttons, of, the, nintendo, ds, work, out, perfectly, for, this, game, as, you, feel, like, youre, holding, onto, an, old, nes, controller, while, you, cruise, around, the, racetracks, half, of, the, games, courses, are, also, throwbacks, to, prior, releases, of, mario, kart, on, various, platforms, including, game, boy, advance, and, nintendo, 64, all, of, the, courses, are, fun, to, play, and, the, difficulty, can, be, customized, by, choosing, either, 50cc, novice, 100cc, intermediate, or, 150cc, ...]</td>\n",
       "      <td>[there, a, reason, thi, game, ha, been, in, the, top, ds, game, list, for, over, 1400, day, the, limit, control, onli, direct, pad, and, 2, button, of, the, nintendo, ds, work, out, perfectli, for, thi, game, as, you, feel, like, your, hold, onto, an, old, ne, control, while, you, cruis, around, the, racetrack, half, of, the, game, cours, are, also, throwback, to, prior, releas, of, mario, kart, on, variou, platform, includ, game, boy, advanc, and, nintendo, 64, all, of, the, cours, are, fun, to, play, and, the, difficulti, can, be, custom, by, choos, either, 50cc, novic, 100cc, intermedi, or, 150cc, ...]</td>\n",
       "    </tr>\n",
       "    <tr>\n",
       "      <th>1231</th>\n",
       "      <td>[5999, i, could, not, understand, why, this, game, was, so, much, for, pc, if, you, get, it, threw, digital, download, makes, no, sense, if, they, would, have, had, a, beta, for, this, game, i, would, have, so, past, on, it, if, your, going, to, make, us, overpay, for, games, on, pc, they, better, meet, epicness, standards]</td>\n",
       "      <td>[5999, i, could, not, understand, whi, thi, game, wa, so, much, for, pc, if, you, get, it, threw, digit, download, make, no, sens, if, they, would, have, had, a, beta, for, thi, game, i, would, have, so, past, on, it, if, your, go, to, make, us, overpay, for, game, on, pc, they, better, meet, epic, standard]</td>\n",
       "    </tr>\n",
       "  </tbody>\n",
       "</table>\n",
       "</div>"
      ],
      "text/plain": [
       "                                                                                                                                                                                                                                                                                                                                                                                                                                                                                                                                                                                                                                                                                   tb_tokens  \\\n",
       "4288                                                                                                                                                                                                                                                                                                                                                                                                                                                                                                                                                             [love, it, thanks, received, it, fast, and, exactly, what, i, wanted, very, happy, with, it, would, bye, it, again, thanks]   \n",
       "4303  [theres, a, reason, this, game, has, been, in, the, top, ds, games, list, for, over, 1400, days, the, limited, controls, only, directional, pad, and, 2, buttons, of, the, nintendo, ds, work, out, perfectly, for, this, game, as, you, feel, like, youre, holding, onto, an, old, nes, controller, while, you, cruise, around, the, racetracks, half, of, the, games, courses, are, also, throwbacks, to, prior, releases, of, mario, kart, on, various, platforms, including, game, boy, advance, and, nintendo, 64, all, of, the, courses, are, fun, to, play, and, the, difficulty, can, be, customized, by, choosing, either, 50cc, novice, 100cc, intermediate, or, 150cc, ...]   \n",
       "1231                                                                                                                                                                                                                                                                                                                                                   [5999, i, could, not, understand, why, this, game, was, so, much, for, pc, if, you, get, it, threw, digital, download, makes, no, sense, if, they, would, have, had, a, beta, for, this, game, i, would, have, so, past, on, it, if, your, going, to, make, us, overpay, for, games, on, pc, they, better, meet, epicness, standards]   \n",
       "\n",
       "                                                                                                                                                                                                                                                                                                                                                                                                                                                                                                                                                                                                                            tokens_stemmed  \n",
       "4288                                                                                                                                                                                                                                                                                                                                                                                                                                                                                                                 [love, it, thank, receiv, it, fast, and, exactli, what, i, want, veri, happi, with, it, would, bye, it, again, thank]  \n",
       "4303  [there, a, reason, thi, game, ha, been, in, the, top, ds, game, list, for, over, 1400, day, the, limit, control, onli, direct, pad, and, 2, button, of, the, nintendo, ds, work, out, perfectli, for, thi, game, as, you, feel, like, your, hold, onto, an, old, ne, control, while, you, cruis, around, the, racetrack, half, of, the, game, cours, are, also, throwback, to, prior, releas, of, mario, kart, on, variou, platform, includ, game, boy, advanc, and, nintendo, 64, all, of, the, cours, are, fun, to, play, and, the, difficulti, can, be, custom, by, choos, either, 50cc, novic, 100cc, intermedi, or, 150cc, ...]  \n",
       "1231                                                                                                                                                                                                                                                                                                                 [5999, i, could, not, understand, whi, thi, game, wa, so, much, for, pc, if, you, get, it, threw, digit, download, make, no, sens, if, they, would, have, had, a, beta, for, thi, game, i, would, have, so, past, on, it, if, your, go, to, make, us, overpay, for, game, on, pc, they, better, meet, epic, standard]  "
      ]
     },
     "execution_count": 18,
     "metadata": {},
     "output_type": "execute_result"
    }
   ],
   "source": [
    "reviews[['tb_tokens','tokens_stemmed']].sample(3)"
   ]
  },
  {
   "cell_type": "markdown",
   "metadata": {},
   "source": [
    "### Lemmatisation"
   ]
  },
  {
   "cell_type": "code",
   "execution_count": 19,
   "metadata": {},
   "outputs": [],
   "source": [
    "from nltk.stem import WordNetLemmatizer\n",
    "from nltk.corpus import wordnet as wn\n",
    "from nltk.corpus import sentiwordnet as swn\n",
    "from nltk import sent_tokenize, word_tokenize, pos_tag"
   ]
  },
  {
   "cell_type": "code",
   "execution_count": 23,
   "metadata": {},
   "outputs": [],
   "source": [
    "def penn_to_wn(tag):\n",
    "    \"\"\"\n",
    "        Convert between the PennTreebank tags to simple Wordnet tags\n",
    "    \"\"\"\n",
    "    if tag.startswith('J'):\n",
    "        return wn.ADJ\n",
    "    elif tag.startswith('N'):\n",
    "        return wn.NOUN\n",
    "    elif tag.startswith('R'):\n",
    "        return wn.ADV\n",
    "    elif tag.startswith('V'):\n",
    "        return wn.VERB\n",
    "    return None"
   ]
  },
  {
   "cell_type": "code",
   "execution_count": 24,
   "metadata": {},
   "outputs": [],
   "source": [
    "lemmatizer = WordNetLemmatizer()\n",
    "def get_lemas(tokens):\n",
    "    lemmas = []\n",
    "    for token in tokens:\n",
    "        pos = penn_to_wn(pos_tag([token])[0][1])\n",
    "        if pos:\n",
    "            lemma = lemmatizer.lemmatize(token, pos)\n",
    "            if lemma:\n",
    "                lemmas.append(lemma)\n",
    "    return lemmas"
   ]
  },
  {
   "cell_type": "code",
   "execution_count": 27,
   "metadata": {},
   "outputs": [],
   "source": [
    "reviews['lemmas'] = reviews['tb_tokens'].apply(lambda tokens: get_lemas(tokens))"
   ]
  },
  {
   "cell_type": "code",
   "execution_count": 28,
   "metadata": {},
   "outputs": [
    {
     "data": {
      "text/html": [
       "<div>\n",
       "<style scoped>\n",
       "    .dataframe tbody tr th:only-of-type {\n",
       "        vertical-align: middle;\n",
       "    }\n",
       "\n",
       "    .dataframe tbody tr th {\n",
       "        vertical-align: top;\n",
       "    }\n",
       "\n",
       "    .dataframe thead th {\n",
       "        text-align: right;\n",
       "    }\n",
       "</style>\n",
       "<table border=\"1\" class=\"dataframe\">\n",
       "  <thead>\n",
       "    <tr style=\"text-align: right;\">\n",
       "      <th></th>\n",
       "      <th>reviewText</th>\n",
       "      <th>tokens_stemmed</th>\n",
       "      <th>lemmas</th>\n",
       "    </tr>\n",
       "  </thead>\n",
       "  <tbody>\n",
       "    <tr>\n",
       "      <th>4490</th>\n",
       "      <td>Great game in the series. If you enjoyed the first game, you will enjoy this one. It is not required that you know the games the music comes from. It helps as you will have a better idea of the rhythm if you are familiar with the music, but not necessary to fully enjoy this great game.</td>\n",
       "      <td>[great, game, in, the, seri, if, you, enjoy, the, first, game, you, will, enjoy, thi, one, it, is, not, requir, that, you, know, the, game, the, music, come, from, it, help, as, you, will, have, a, better, idea, of, the, rhythm, if, you, are, familiar, with, the, music, but, not, necessari, to, fulli, enjoy, thi, great, game]</td>\n",
       "      <td>[great, game, series, enjoy, first, game, enjoy, be, not, require, know, game, music, come, help, have, well, idea, rhythm, be, familiar, music, not, necessary, fully, enjoy, great, game]</td>\n",
       "    </tr>\n",
       "    <tr>\n",
       "      <th>1845</th>\n",
       "      <td>Anyone else doing the same? When Diablo 3 comes out, Starcraft 2 will be dead to me.\\nDIABLO 3 COME SOON AND SAVE US ALL!\\n\\nStarcraft 2 has been out for a few months now and I'm bored out of my mind playing it, melee and custom. I remember playing Starcraft 1 and how I was totally addicted to everything. I spent most of my high school youth (sad as that sounds) playing this and Diablo. I'm in custom games for SC2 and the only thing I can really find are a bunch of tower defense or mass spawning games like Nexus Wars (there are tons of similar games as well). I've been waiting FOREVER for Firebat Tag or some sort of fun tag game and I'm guessing no one is going to come up with one till maybe a year or two from now. I also thought that maybe this feeling was just me, but the proof is also in my friends list. I have over 40 people in my friends list and when this game started and a month or two in, 20-30 of them were on a lot. A month or so of not playing and I come back and now I only have 2-5 people on, which has been so for almost two weeks now.\\n\\nSo I've sort of given up on Starcraft 2. Maybe another year or two and hopefully they will fix the following below and there will be a lot better custom games available. Overall, SC2 died because it was overhyped, over a dozen years in the making, and it's practically the same in many areas and worse where it counts. I was expecting A LOT more. I'm sad that Blizzard, a company that usually has a great reputation for making highly successful games, have failed on one of my favorite types of MMOs.\\n\\nLet's all hope they don't murder Diablo 3 as well.\\n\\nI have pretty much the same complaints as the majority, including some of my own personal feuds with it.\\n\\n1. Can't change usernames - you can change it now but it took months and should have been something available at the very beginning. They should have also said in clear, over-sized fonts that the name chosen would be your final. Now you can change it once for free, but pay for it afterwards. Thanks blizzard.....\\n\\nI was basically running around for a few months now with the lame username of Zerg. I made it because I thought I'd get a rare original name and that I could make multiple usernames. Fortunately for me though, some people still think there's such a thing as an original name so I get to gloat once in awhile. \"Yeah, I have the rarest name in the world, ENVY MEEEEE!\"\\n\\n2. No original names - So if you have a name, a ton of other people have it. Not to mention you can't even add numbers to your names, which kills the thought of originality even more.\\n\\n3. Clan Tags - Still don't see it available.\\n\\n4. No Chatrooms - this is one of the biggest issues to me because other than playing games, I would also use it to socialize with my gaming friends. Chatrooms and private chatrooms help people organize games they want to play with each other and so on.\\n\\n5. Personalize game names and Party and Invite System - Before in SC1, you can tell your friends the game name you wanted and they can copy and paste it into the search and be in there. Now you got to party up or invite one by one. I don't like to party up because if one person doesn't accept the game you want, you sort of have to wait and I'm not sure if they fixed this yet, but if you go into a game that has separate teams like a 1v1v1v1 kind of game like a custom game, you can't really join because being in the same party, the party system only works for games that'll let you be on the same team.... I understand the use of the new organization system, but I would like the option to revert to customized game names as well...\\n\\n6. Backstabbing is now replaced by a custom game called Phantom which I find is nowhere as fun. Backstabbing should be left as it was in the first one because it gives the feeling of real battle, where there's more randomness and unpredictability. In phantom, you already know there's a backstabber. I don't want that, I just want it the way it was, where you play a game like computer stomping or even just melee and thinking everything is great and then it happens.\\n\\n7. I don't really like how you can't run between stuff like pylons with my probe. This is a personal thing, but I like being able to run between certain closely built buildings, it's very useful for custom tag games.\\n\\n8. Profile icons look like crap. They look neat blown up, but when people join games, it looks like trash. Like one person would have this icon that I really thought was barf. Most of them look too small and the details so hard to see that earning them seems not so much of a reward. I play on a 24\" LCD Monitor by the way, so I would say I'm the majority or a little over.</td>\n",
       "      <td>[anyon, els, do, the, same, when, diablo, 3, come, out, starcraft, 2, will, be, dead, to, me, diablo, 3, come, soon, and, save, us, all, starcraft, 2, ha, been, out, for, a, few, month, now, and, im, bore, out, of, my, mind, play, it, mele, and, custom, i, rememb, play, starcraft, 1, and, how, i, wa, total, addict, to, everyth, i, spent, most, of, my, high, school, youth, sad, as, that, sound, play, thi, and, diablo, im, in, custom, game, for, sc2, and, the, onli, thing, i, can, realli, find, are, a, bunch, of, tower, defens, or, mass, spawn, game, ...]</td>\n",
       "      <td>[anyone, else, do, same, diablo, come, starcraft, be, dead, diablo, come, soon, save, starcraft, have, be, few, month, now, im, bore, mind, play, melee, custom, i, remember, play, starcraft, i, be, totally, addict, everything, i, spent, most, high, school, youth, sad, sound, play, diablo, im, custom, game, sc2, only, thing, i, really, find, be, bunch, tower, defense, mass, spawn, game, nexus, war, there, be, ton, similar, game, well, ive, be, wait, forever, firebat, tag, sort, fun, tag, game, im, guess, be, go, come, up, till, maybe, year, now, i, also, thought, maybe, feel, be, just, proof, be, also, friend, list, ...]</td>\n",
       "    </tr>\n",
       "  </tbody>\n",
       "</table>\n",
       "</div>"
      ],
      "text/plain": [
       "                                                                                                                                                                                                                                                                                                                                                                                                                                                                                                                                                                                                                                                                                                                                                                                                                                                                                                                                                                                                                                                                                                                                                                                                                                                                                                                                                                                                                                                                                                                                                                                                                                                                                                                                                                                                                                                                                                                                                                                                                                                                                                                                                                                                                                                                                                                                                                                                                                                                                                                                                                                                                                                                                                                                                                                                                                                                                                                                                                                                                                                                                                                                                                                                                                                                                                                                                                                                                                                                                                                                                                                                                                                                                                                                                                                                                                                                                                                                                                                                                                                                                                                                                                                                                                                                                                                                                                                                                                                                                                                                                                                                                                                                                                                                                                                                                                                                                                      reviewText  \\\n",
       "4490                                                                                                                                                                                                                                                                                                                                                                                                                                                                                                                                                                                                                                                                                                                                                                                                                                                                                                                                                                                                                                                                                                                                                                                                                                                                                                                                                                                                                                                                                                                                                                                                                                                                                                                                                                                                                                                                                                                                                                                                                                                                                                                                                                                                                                                                                                                                                                                                                                                                                                                                                                                                                                                                                                                                                                                                                                                                                                                                                                                                                                                                                                                                                                                                                                                                                                                                                                                                                                                                                                                                                                                                                                                                                                                                                                                                                                                                                                                                                                                                                                                                                                                                                                                                                                                                                                                                                                                                                                                                                                                                                                                                              Great game in the series. If you enjoyed the first game, you will enjoy this one. It is not required that you know the games the music comes from. It helps as you will have a better idea of the rhythm if you are familiar with the music, but not necessary to fully enjoy this great game.   \n",
       "1845  Anyone else doing the same? When Diablo 3 comes out, Starcraft 2 will be dead to me.\\nDIABLO 3 COME SOON AND SAVE US ALL!\\n\\nStarcraft 2 has been out for a few months now and I'm bored out of my mind playing it, melee and custom. I remember playing Starcraft 1 and how I was totally addicted to everything. I spent most of my high school youth (sad as that sounds) playing this and Diablo. I'm in custom games for SC2 and the only thing I can really find are a bunch of tower defense or mass spawning games like Nexus Wars (there are tons of similar games as well). I've been waiting FOREVER for Firebat Tag or some sort of fun tag game and I'm guessing no one is going to come up with one till maybe a year or two from now. I also thought that maybe this feeling was just me, but the proof is also in my friends list. I have over 40 people in my friends list and when this game started and a month or two in, 20-30 of them were on a lot. A month or so of not playing and I come back and now I only have 2-5 people on, which has been so for almost two weeks now.\\n\\nSo I've sort of given up on Starcraft 2. Maybe another year or two and hopefully they will fix the following below and there will be a lot better custom games available. Overall, SC2 died because it was overhyped, over a dozen years in the making, and it's practically the same in many areas and worse where it counts. I was expecting A LOT more. I'm sad that Blizzard, a company that usually has a great reputation for making highly successful games, have failed on one of my favorite types of MMOs.\\n\\nLet's all hope they don't murder Diablo 3 as well.\\n\\nI have pretty much the same complaints as the majority, including some of my own personal feuds with it.\\n\\n1. Can't change usernames - you can change it now but it took months and should have been something available at the very beginning. They should have also said in clear, over-sized fonts that the name chosen would be your final. Now you can change it once for free, but pay for it afterwards. Thanks blizzard.....\\n\\nI was basically running around for a few months now with the lame username of Zerg. I made it because I thought I'd get a rare original name and that I could make multiple usernames. Fortunately for me though, some people still think there's such a thing as an original name so I get to gloat once in awhile. \"Yeah, I have the rarest name in the world, ENVY MEEEEE!\"\\n\\n2. No original names - So if you have a name, a ton of other people have it. Not to mention you can't even add numbers to your names, which kills the thought of originality even more.\\n\\n3. Clan Tags - Still don't see it available.\\n\\n4. No Chatrooms - this is one of the biggest issues to me because other than playing games, I would also use it to socialize with my gaming friends. Chatrooms and private chatrooms help people organize games they want to play with each other and so on.\\n\\n5. Personalize game names and Party and Invite System - Before in SC1, you can tell your friends the game name you wanted and they can copy and paste it into the search and be in there. Now you got to party up or invite one by one. I don't like to party up because if one person doesn't accept the game you want, you sort of have to wait and I'm not sure if they fixed this yet, but if you go into a game that has separate teams like a 1v1v1v1 kind of game like a custom game, you can't really join because being in the same party, the party system only works for games that'll let you be on the same team.... I understand the use of the new organization system, but I would like the option to revert to customized game names as well...\\n\\n6. Backstabbing is now replaced by a custom game called Phantom which I find is nowhere as fun. Backstabbing should be left as it was in the first one because it gives the feeling of real battle, where there's more randomness and unpredictability. In phantom, you already know there's a backstabber. I don't want that, I just want it the way it was, where you play a game like computer stomping or even just melee and thinking everything is great and then it happens.\\n\\n7. I don't really like how you can't run between stuff like pylons with my probe. This is a personal thing, but I like being able to run between certain closely built buildings, it's very useful for custom tag games.\\n\\n8. Profile icons look like crap. They look neat blown up, but when people join games, it looks like trash. Like one person would have this icon that I really thought was barf. Most of them look too small and the details so hard to see that earning them seems not so much of a reward. I play on a 24\" LCD Monitor by the way, so I would say I'm the majority or a little over.   \n",
       "\n",
       "                                                                                                                                                                                                                                                                                                                                                                                                                                                                                                                                                                       tokens_stemmed  \\\n",
       "4490                                                                                                                                                                                                                                          [great, game, in, the, seri, if, you, enjoy, the, first, game, you, will, enjoy, thi, one, it, is, not, requir, that, you, know, the, game, the, music, come, from, it, help, as, you, will, have, a, better, idea, of, the, rhythm, if, you, are, familiar, with, the, music, but, not, necessari, to, fulli, enjoy, thi, great, game]   \n",
       "1845  [anyon, els, do, the, same, when, diablo, 3, come, out, starcraft, 2, will, be, dead, to, me, diablo, 3, come, soon, and, save, us, all, starcraft, 2, ha, been, out, for, a, few, month, now, and, im, bore, out, of, my, mind, play, it, mele, and, custom, i, rememb, play, starcraft, 1, and, how, i, wa, total, addict, to, everyth, i, spent, most, of, my, high, school, youth, sad, as, that, sound, play, thi, and, diablo, im, in, custom, game, for, sc2, and, the, onli, thing, i, can, realli, find, are, a, bunch, of, tower, defens, or, mass, spawn, game, ...]   \n",
       "\n",
       "                                                                                                                                                                                                                                                                                                                                                                                                                                                                                                                                                                                                                                                   lemmas  \n",
       "4490                                                                                                                                                                                                                                                                                                                                                                                                                                                          [great, game, series, enjoy, first, game, enjoy, be, not, require, know, game, music, come, help, have, well, idea, rhythm, be, familiar, music, not, necessary, fully, enjoy, great, game]  \n",
       "1845  [anyone, else, do, same, diablo, come, starcraft, be, dead, diablo, come, soon, save, starcraft, have, be, few, month, now, im, bore, mind, play, melee, custom, i, remember, play, starcraft, i, be, totally, addict, everything, i, spent, most, high, school, youth, sad, sound, play, diablo, im, custom, game, sc2, only, thing, i, really, find, be, bunch, tower, defense, mass, spawn, game, nexus, war, there, be, ton, similar, game, well, ive, be, wait, forever, firebat, tag, sort, fun, tag, game, im, guess, be, go, come, up, till, maybe, year, now, i, also, thought, maybe, feel, be, just, proof, be, also, friend, list, ...]  "
      ]
     },
     "execution_count": 28,
     "metadata": {},
     "output_type": "execute_result"
    }
   ],
   "source": [
    "reviews[['reviewText','tokens_stemmed','lemmas']].sample(2)"
   ]
  },
  {
   "cell_type": "markdown",
   "metadata": {},
   "source": [
    "### Sentiment Predictor Baseline Model"
   ]
  },
  {
   "cell_type": "code",
   "execution_count": 29,
   "metadata": {},
   "outputs": [],
   "source": [
    "def get_sentiment_score(tokens):\n",
    "    score = 0\n",
    "    tags = pos_tag(tokens)\n",
    "    for word, tag in tags:\n",
    "        wn_tag = penn_to_wn(tag)\n",
    "        if not wn_tag:\n",
    "            continue\n",
    "        synsets = wn.synsets(word, pos=wn_tag)\n",
    "        if not synsets:\n",
    "            continue\n",
    "        \n",
    "        #most common set:\n",
    "        synset = synsets[0]\n",
    "        swn_synset = swn.senti_synset(synset.name())\n",
    "        \n",
    "        score += (swn_synset.pos_score() - swn_synset.neg_score())\n",
    "        \n",
    "    return score\n",
    "                    "
   ]
  },
  {
   "cell_type": "code",
   "execution_count": 30,
   "metadata": {},
   "outputs": [
    {
     "data": {
      "text/plain": [
       "0.625"
      ]
     },
     "execution_count": 30,
     "metadata": {},
     "output_type": "execute_result"
    }
   ],
   "source": [
    "## test\n",
    "swn.senti_synset(wn.synsets(\"perfect\", wn.ADJ)[0].name()).pos_score()"
   ]
  },
  {
   "cell_type": "code",
   "execution_count": 31,
   "metadata": {},
   "outputs": [],
   "source": [
    "reviews['sentiment_score'] = reviews['lemmas'].apply(lambda tokens: get_sentiment_score(tokens))"
   ]
  },
  {
   "cell_type": "code",
   "execution_count": 32,
   "metadata": {},
   "outputs": [
    {
     "data": {
      "text/html": [
       "<div>\n",
       "<style scoped>\n",
       "    .dataframe tbody tr th:only-of-type {\n",
       "        vertical-align: middle;\n",
       "    }\n",
       "\n",
       "    .dataframe tbody tr th {\n",
       "        vertical-align: top;\n",
       "    }\n",
       "\n",
       "    .dataframe thead th {\n",
       "        text-align: right;\n",
       "    }\n",
       "</style>\n",
       "<table border=\"1\" class=\"dataframe\">\n",
       "  <thead>\n",
       "    <tr style=\"text-align: right;\">\n",
       "      <th></th>\n",
       "      <th>reviewText</th>\n",
       "      <th>lemmas</th>\n",
       "      <th>sentiment_score</th>\n",
       "    </tr>\n",
       "  </thead>\n",
       "  <tbody>\n",
       "    <tr>\n",
       "      <th>2026</th>\n",
       "      <td>Not sure who's hand this is made for, I'm a petty big guy and this just doesn't work for me.</td>\n",
       "      <td>[not, sure, who, hand, be, make, im, petty, big, guy, just, doesnt, work]</td>\n",
       "      <td>-0.125</td>\n",
       "    </tr>\n",
       "    <tr>\n",
       "      <th>1153</th>\n",
       "      <td>Had to refund... bad disc.</td>\n",
       "      <td>[have, refund, bad, disc]</td>\n",
       "      <td>-0.375</td>\n",
       "    </tr>\n",
       "    <tr>\n",
       "      <th>731</th>\n",
       "      <td>did not meet expectations</td>\n",
       "      <td>[do, not, meet, expectation]</td>\n",
       "      <td>-0.625</td>\n",
       "    </tr>\n",
       "    <tr>\n",
       "      <th>2930</th>\n",
       "      <td>It is generally a solid controller.  Mine shipped new in box with a solid charge so I was playing games within five minutes.  It has a physical on/off switch and an auto power off feature.  Initial pairing is a snap as the first power on sets it to pairing mode.  The D-Pad is surprisingly responsive, which is a major complaint I have about most other controllers in the analog stick era.  The analog sticks are not clickable but otherwise respond well.  SteelSeries assumes you already have lightning charging cables because you don't get one in the box.  Mine was paired to an Apple TV and it works great, with the only real flaw being that there isn't a lot worth playing on Apple TV.  It's a shame the controller can't store multiple pairings so I wouldn't need to repair or buy multiple controllers if I want something for my iOS devices.  At $50 new, I am not overly convinced it is the best value.  It is a solid controller comparable to a PS4 or Xbox controller in quality but doesn't quite measure up to the premium finish of the Apple devices I am using it with.\\n\\nStill, I have no serious quibbles with it and if you are an Apple owner, it is a device worth investing in as you should already have a spare charging cable and setup is automatic to your Apple devices.  Overall it is a solid product that will get Apple TV and iOS users gaming with a controller in just a couple minutes.</td>\n",
       "      <td>[be, generally, solid, controller, mine, ship, new, box, solid, charge, so, i, be, play, game, minute, have, physical, onoff, switch, auto, power, feature, initial, pair, be, snap, first, power, set, pair, mode, dpad, be, surprisingly, responsive, be, major, complaint, i, have, most, other, controller, analog, stick, era, analog, stick, be, not, clickable, otherwise, respond, well, steelseries, assumes, already, have, lightning, charge, cable, dont, get, box, mine, be, pair, apple, tv, work, great, only, real, flaw, be, there, isnt, lot, worth, play, apple, tv, shame, controller, cant, store, multiple, pairing, so, i, wouldnt, need, repair, buy, multiple, controller, i, want, something, ...]</td>\n",
       "      <td>7.625</td>\n",
       "    </tr>\n",
       "    <tr>\n",
       "      <th>808</th>\n",
       "      <td>An ok game I guess.  I ended up playing other games.  Then looked up more info on origin then I hope got all of it off my comp.</td>\n",
       "      <td>[ok, game, i, guess, i, end, up, play, other, game, then, look, up, more, info, origin, then, i, hope, get, comp]</td>\n",
       "      <td>-0.250</td>\n",
       "    </tr>\n",
       "  </tbody>\n",
       "</table>\n",
       "</div>"
      ],
      "text/plain": [
       "                                                                                                                                                                                                                                                                                                                                                                                                                                                                                                                                                                                                                                                                                                                                                                                                                                                                                                                                                                                                                                                                                                                                                                                                                                                                                                                                                                                                                                                  reviewText  \\\n",
       "2026                                                                                                                                                                                                                                                                                                                                                                                                                                                                                                                                                                                                                                                                                                                                                                                                                                                                                                                                                                                                                                                                                                                                                                                                                                                                                                                                                            Not sure who's hand this is made for, I'm a petty big guy and this just doesn't work for me.   \n",
       "1153                                                                                                                                                                                                                                                                                                                                                                                                                                                                                                                                                                                                                                                                                                                                                                                                                                                                                                                                                                                                                                                                                                                                                                                                                                                                                                                                                                                                                              Had to refund... bad disc.   \n",
       "731                                                                                                                                                                                                                                                                                                                                                                                                                                                                                                                                                                                                                                                                                                                                                                                                                                                                                                                                                                                                                                                                                                                                                                                                                                                                                                                                                                                                                                did not meet expectations   \n",
       "2930  It is generally a solid controller.  Mine shipped new in box with a solid charge so I was playing games within five minutes.  It has a physical on/off switch and an auto power off feature.  Initial pairing is a snap as the first power on sets it to pairing mode.  The D-Pad is surprisingly responsive, which is a major complaint I have about most other controllers in the analog stick era.  The analog sticks are not clickable but otherwise respond well.  SteelSeries assumes you already have lightning charging cables because you don't get one in the box.  Mine was paired to an Apple TV and it works great, with the only real flaw being that there isn't a lot worth playing on Apple TV.  It's a shame the controller can't store multiple pairings so I wouldn't need to repair or buy multiple controllers if I want something for my iOS devices.  At $50 new, I am not overly convinced it is the best value.  It is a solid controller comparable to a PS4 or Xbox controller in quality but doesn't quite measure up to the premium finish of the Apple devices I am using it with.\\n\\nStill, I have no serious quibbles with it and if you are an Apple owner, it is a device worth investing in as you should already have a spare charging cable and setup is automatic to your Apple devices.  Overall it is a solid product that will get Apple TV and iOS users gaming with a controller in just a couple minutes.   \n",
       "808                                                                                                                                                                                                                                                                                                                                                                                                                                                                                                                                                                                                                                                                                                                                                                                                                                                                                                                                                                                                                                                                                                                                                                                                                                                                                                                          An ok game I guess.  I ended up playing other games.  Then looked up more info on origin then I hope got all of it off my comp.   \n",
       "\n",
       "                                                                                                                                                                                                                                                                                                                                                                                                                                                                                                                                                                                                                                                                                                                            lemmas  \\\n",
       "2026                                                                                                                                                                                                                                                                                                                                                                                                                                                                                                                                                                                                                                                     [not, sure, who, hand, be, make, im, petty, big, guy, just, doesnt, work]   \n",
       "1153                                                                                                                                                                                                                                                                                                                                                                                                                                                                                                                                                                                                                                                                                                     [have, refund, bad, disc]   \n",
       "731                                                                                                                                                                                                                                                                                                                                                                                                                                                                                                                                                                                                                                                                                                   [do, not, meet, expectation]   \n",
       "2930  [be, generally, solid, controller, mine, ship, new, box, solid, charge, so, i, be, play, game, minute, have, physical, onoff, switch, auto, power, feature, initial, pair, be, snap, first, power, set, pair, mode, dpad, be, surprisingly, responsive, be, major, complaint, i, have, most, other, controller, analog, stick, era, analog, stick, be, not, clickable, otherwise, respond, well, steelseries, assumes, already, have, lightning, charge, cable, dont, get, box, mine, be, pair, apple, tv, work, great, only, real, flaw, be, there, isnt, lot, worth, play, apple, tv, shame, controller, cant, store, multiple, pairing, so, i, wouldnt, need, repair, buy, multiple, controller, i, want, something, ...]   \n",
       "808                                                                                                                                                                                                                                                                                                                                                                                                                                                                                                                                                                                                              [ok, game, i, guess, i, end, up, play, other, game, then, look, up, more, info, origin, then, i, hope, get, comp]   \n",
       "\n",
       "      sentiment_score  \n",
       "2026           -0.125  \n",
       "1153           -0.375  \n",
       "731            -0.625  \n",
       "2930            7.625  \n",
       "808            -0.250  "
      ]
     },
     "execution_count": 32,
     "metadata": {},
     "output_type": "execute_result"
    }
   ],
   "source": [
    "reviews[['reviewText','lemmas','sentiment_score']].sample(5)"
   ]
  },
  {
   "cell_type": "code",
   "execution_count": 33,
   "metadata": {},
   "outputs": [
    {
     "data": {
      "text/html": [
       "<div>\n",
       "<style scoped>\n",
       "    .dataframe tbody tr th:only-of-type {\n",
       "        vertical-align: middle;\n",
       "    }\n",
       "\n",
       "    .dataframe tbody tr th {\n",
       "        vertical-align: top;\n",
       "    }\n",
       "\n",
       "    .dataframe thead th {\n",
       "        text-align: right;\n",
       "    }\n",
       "</style>\n",
       "<table border=\"1\" class=\"dataframe\">\n",
       "  <thead>\n",
       "    <tr style=\"text-align: right;\">\n",
       "      <th></th>\n",
       "      <th>reviewText</th>\n",
       "      <th>lemmas</th>\n",
       "      <th>sentiment_score</th>\n",
       "    </tr>\n",
       "  </thead>\n",
       "  <tbody>\n",
       "    <tr>\n",
       "      <th>4298</th>\n",
       "      <td>Fun and new to me but it's awesome! Thank You</td>\n",
       "      <td>[fun, new, awesome, thank]</td>\n",
       "      <td>1.125</td>\n",
       "    </tr>\n",
       "    <tr>\n",
       "      <th>1080</th>\n",
       "      <td>Horrible brand. Worst sound quality I've experienced, I can barely hear anything (except the sound of this headset and it's cheap materials rubbing against your head). Do not buy.</td>\n",
       "      <td>[horrible, brand, bad, sound, quality, ive, experienced, i, barely, hear, anything, sound, headset, cheap, material, rub, head, do, not, buy]</td>\n",
       "      <td>-0.125</td>\n",
       "    </tr>\n",
       "    <tr>\n",
       "      <th>2395</th>\n",
       "      <td>When i purchased Wario Master of Disguise, i had some idea of what i was getting based on a few trailers and previews, but the game has some issues i need to address but let's start off with the positives.\\n\\nWario's deal is that he wants to be on T.V, so being the genius that he is,  he uses his tech wizardry to pop him into a popular t.v show where he steals a magic brush from the show's thief hero. the Brush becomes one of the most integral parts of the game as you must use strokes of the stylus to give Wario masterful disguises to create platforms, break baddies, hit switches, fly, swim, shoot lasers and more. The visuals of the game are very appealing at least to me with a funny and comedic look , seriously the sprite work is top notch in animation and style. The music feels right for the levels, i would even say that it's downright cool, another plus. The story is fittingly separated into episodes, and i kind of wish there were more, but the levels are quite long and vast, some levels it's very easy to get lost but there's a map. The games is a crossbreed of a castlevania exploration and puzzle solving. I really liked the exploration in the game, trying to find the treasures was quite challenging.\\n\\nNow here's where it's crunch time, the controls. To make Wario transform you have etch out shapes like triangles,squares,circles and other strange designs in order to do so but you have to be precise about where you draw it and how big you draw it, you have to draw the shape good enough so that it can be recognized and it becomes hard to do. I can argue that while it takes time, you can get good enough to effortlessly transform Wario but there's sometime so much going on with enemies moving pretty fast and other obstacles, time limits even ( in the bonus episodes). It becomes hard and tedious to switch back and forth between disguises when solving puzzles that require a fast pace and that kind of hurts me when everything right.\\n\\nIt's hard to judge this game, but the main issue of control and some other design choices (mini games to get the treasure) really hinder what it could've been. I still however think that if you're interested, you should give it a try because it's still an ok game, the weirdness of Wario in general is all over it. I firmly believe there are those who'll have an easier time with the gameplay and the game mechanics enough to enjoy it</td>\n",
       "      <td>[i, purchase, wario, master, disguise, i, have, idea, i, be, get, base, few, trailer, preview, game, have, issue, i, need, address, let, start, positive, warios, deal, be, want, be, tv, so, be, genius, be, us, tech, wizardry, pop, popular, tv, show, steal, magic, brush, show, thief, hero, brush, becomes, most, integral, part, game, use, stroke, stylus, give, wario, masterful, disguise, create, platform, break, baddie, hit, switch, fly, swim, shoot, laser, more, visuals, game, be, very, appeal, least, funny, comedic, look, seriously, sprite, work, be, top, notch, animation, style, music, feel, right, level, i, even, say, downright, cool, story, be, fittingly, ...]</td>\n",
       "      <td>10.500</td>\n",
       "    </tr>\n",
       "    <tr>\n",
       "      <th>1716</th>\n",
       "      <td>I got errors when trying to create an account. I got errors when trying to create a character. The server my friends play on was full and not accepting new characters. I got disconnected SIX times within 15 minutes of signing on, all within the same two days (with no internet issues on any other game or platform). The game looks great but what a broken piece of garbage. I returned it.</td>\n",
       "      <td>[i, get, error, try, create, account, i, get, error, try, create, character, server, friend, play, be, full, not, accept, new, character, i, get, disconnect, time, minute, signing, same, day, internet, issue, other, game, platform, game, look, great, broken, piece, garbage, i, return]</td>\n",
       "      <td>-0.875</td>\n",
       "    </tr>\n",
       "    <tr>\n",
       "      <th>388</th>\n",
       "      <td>Unlike previous sim games, you cannot directly control one family at a time. If you create one family, play it for a while and then save and play another, when you come back you will find that they have continued to age in your absence and that all your hard work that you put into making a particular sim is gone because he died from old age. It is really a big letdown.\\nIf you want to make new neighborhoods, you are out of luck, as you are stuck with one, and you are forced to BUY others if you want more.\\nThere is just no reason to remake this game, and it feels like EA just wanted to be able to remake all of those expensive expansions for it again so their CEOs can afford their weekly trips to the Bahamas.\\nIt is also extremely buggy, and will crash quite often.\\nThe lack of loading screens is good, but it just doesn't make up for everything else that is wrong with this game.</td>\n",
       "      <td>[previous, sim, game, not, directly, control, family, time, create, family, play, then, save, play, come, back, find, have, continued, age, absence, hard, work, put, make, particular, sim, be, go, die, old, age, be, really, big, letdown, want, make, new, neighborhood, be, luck, be, stuck, be, force, buy, others, want, more, there, be, just, reason, remake, game, feel, ea, just, want, be, able, remake, expensive, expansion, again, so, ceo, afford, weekly, trip, bahamas, be, also, extremely, buggy, crash, quite, often, lack, load, screen, be, good, just, doesnt, make, up, everything, else, be, wrong, game]</td>\n",
       "      <td>3.000</td>\n",
       "    </tr>\n",
       "  </tbody>\n",
       "</table>\n",
       "</div>"
      ],
      "text/plain": [
       "                                                                                                                                                                                                                                                                                                                                                                                                                                                                                                                                                                                                                                                                                                                                                                                                                                                                                                                                                                                                                                                                                                                                                                                                                                                                                                                                                                                                                                                                                                                                                                                                                                                                                                                                                                                                                                                                                                                                                                                                                                                                                                                                                                                                                                                                                                                                                                                                                                                                                             reviewText  \\\n",
       "4298                                                                                                                                                                                                                                                                                                                                                                                                                                                                                                                                                                                                                                                                                                                                                                                                                                                                                                                                                                                                                                                                                                                                                                                                                                                                                                                                                                                                                                                                                                                                                                                                                                                                                                                                                                                                                                                                                                                                                                                                                                                                                                                                                                                                                                                                                                                                                                                                                                                      Fun and new to me but it's awesome! Thank You   \n",
       "1080                                                                                                                                                                                                                                                                                                                                                                                                                                                                                                                                                                                                                                                                                                                                                                                                                                                                                                                                                                                                                                                                                                                                                                                                                                                                                                                                                                                                                                                                                                                                                                                                                                                                                                                                                                                                                                                                                                                                                                                                                                                                                                                                                                                                                                                                                                                Horrible brand. Worst sound quality I've experienced, I can barely hear anything (except the sound of this headset and it's cheap materials rubbing against your head). Do not buy.   \n",
       "2395  When i purchased Wario Master of Disguise, i had some idea of what i was getting based on a few trailers and previews, but the game has some issues i need to address but let's start off with the positives.\\n\\nWario's deal is that he wants to be on T.V, so being the genius that he is,  he uses his tech wizardry to pop him into a popular t.v show where he steals a magic brush from the show's thief hero. the Brush becomes one of the most integral parts of the game as you must use strokes of the stylus to give Wario masterful disguises to create platforms, break baddies, hit switches, fly, swim, shoot lasers and more. The visuals of the game are very appealing at least to me with a funny and comedic look , seriously the sprite work is top notch in animation and style. The music feels right for the levels, i would even say that it's downright cool, another plus. The story is fittingly separated into episodes, and i kind of wish there were more, but the levels are quite long and vast, some levels it's very easy to get lost but there's a map. The games is a crossbreed of a castlevania exploration and puzzle solving. I really liked the exploration in the game, trying to find the treasures was quite challenging.\\n\\nNow here's where it's crunch time, the controls. To make Wario transform you have etch out shapes like triangles,squares,circles and other strange designs in order to do so but you have to be precise about where you draw it and how big you draw it, you have to draw the shape good enough so that it can be recognized and it becomes hard to do. I can argue that while it takes time, you can get good enough to effortlessly transform Wario but there's sometime so much going on with enemies moving pretty fast and other obstacles, time limits even ( in the bonus episodes). It becomes hard and tedious to switch back and forth between disguises when solving puzzles that require a fast pace and that kind of hurts me when everything right.\\n\\nIt's hard to judge this game, but the main issue of control and some other design choices (mini games to get the treasure) really hinder what it could've been. I still however think that if you're interested, you should give it a try because it's still an ok game, the weirdness of Wario in general is all over it. I firmly believe there are those who'll have an easier time with the gameplay and the game mechanics enough to enjoy it   \n",
       "1716                                                                                                                                                                                                                                                                                                                                                                                                                                                                                                                                                                                                                                                                                                                                                                                                                                                                                                                                                                                                                                                                                                                                                                                                                                                                                                                                                                                                                                                                                                                                                                                                                                                                                                                                                                                                                                                                                                                                                                                                                                                                                                I got errors when trying to create an account. I got errors when trying to create a character. The server my friends play on was full and not accepting new characters. I got disconnected SIX times within 15 minutes of signing on, all within the same two days (with no internet issues on any other game or platform). The game looks great but what a broken piece of garbage. I returned it.   \n",
       "388                                                                                                                                                                                                                                                                                                                                                                                                                                                                                                                                                                                                                                                                                                                                                                                                                                                                                                                                                                                                                                                                                                                                                                                                                                                                                                                                                                                                                                                                                                                                                                          Unlike previous sim games, you cannot directly control one family at a time. If you create one family, play it for a while and then save and play another, when you come back you will find that they have continued to age in your absence and that all your hard work that you put into making a particular sim is gone because he died from old age. It is really a big letdown.\\nIf you want to make new neighborhoods, you are out of luck, as you are stuck with one, and you are forced to BUY others if you want more.\\nThere is just no reason to remake this game, and it feels like EA just wanted to be able to remake all of those expensive expansions for it again so their CEOs can afford their weekly trips to the Bahamas.\\nIt is also extremely buggy, and will crash quite often.\\nThe lack of loading screens is good, but it just doesn't make up for everything else that is wrong with this game.   \n",
       "\n",
       "                                                                                                                                                                                                                                                                                                                                                                                                                                                                                                                                                                                                                                                                                               lemmas  \\\n",
       "4298                                                                                                                                                                                                                                                                                                                                                                                                                                                                                                                                                                                                                                                                       [fun, new, awesome, thank]   \n",
       "1080                                                                                                                                                                                                                                                                                                                                                                                                                                                                                                                                                    [horrible, brand, bad, sound, quality, ive, experienced, i, barely, hear, anything, sound, headset, cheap, material, rub, head, do, not, buy]   \n",
       "2395  [i, purchase, wario, master, disguise, i, have, idea, i, be, get, base, few, trailer, preview, game, have, issue, i, need, address, let, start, positive, warios, deal, be, want, be, tv, so, be, genius, be, us, tech, wizardry, pop, popular, tv, show, steal, magic, brush, show, thief, hero, brush, becomes, most, integral, part, game, use, stroke, stylus, give, wario, masterful, disguise, create, platform, break, baddie, hit, switch, fly, swim, shoot, laser, more, visuals, game, be, very, appeal, least, funny, comedic, look, seriously, sprite, work, be, top, notch, animation, style, music, feel, right, level, i, even, say, downright, cool, story, be, fittingly, ...]   \n",
       "1716                                                                                                                                                                                                                                                                                                                                                                                                    [i, get, error, try, create, account, i, get, error, try, create, character, server, friend, play, be, full, not, accept, new, character, i, get, disconnect, time, minute, signing, same, day, internet, issue, other, game, platform, game, look, great, broken, piece, garbage, i, return]   \n",
       "388                                                               [previous, sim, game, not, directly, control, family, time, create, family, play, then, save, play, come, back, find, have, continued, age, absence, hard, work, put, make, particular, sim, be, go, die, old, age, be, really, big, letdown, want, make, new, neighborhood, be, luck, be, stuck, be, force, buy, others, want, more, there, be, just, reason, remake, game, feel, ea, just, want, be, able, remake, expensive, expansion, again, so, ceo, afford, weekly, trip, bahamas, be, also, extremely, buggy, crash, quite, often, lack, load, screen, be, good, just, doesnt, make, up, everything, else, be, wrong, game]   \n",
       "\n",
       "      sentiment_score  \n",
       "4298            1.125  \n",
       "1080           -0.125  \n",
       "2395           10.500  \n",
       "1716           -0.875  \n",
       "388             3.000  "
      ]
     },
     "execution_count": 33,
     "metadata": {},
     "output_type": "execute_result"
    }
   ],
   "source": [
    "reviews[['reviewText','lemmas','sentiment_score']].sample(5)"
   ]
  }
 ],
 "metadata": {
  "kernelspec": {
   "display_name": "Python 3",
   "language": "python",
   "name": "python3"
  },
  "language_info": {
   "codemirror_mode": {
    "name": "ipython",
    "version": 3
   },
   "file_extension": ".py",
   "mimetype": "text/x-python",
   "name": "python",
   "nbconvert_exporter": "python",
   "pygments_lexer": "ipython3",
   "version": "3.12.3"
  }
 },
 "nbformat": 4,
 "nbformat_minor": 4
}
